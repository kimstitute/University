{
 "cells": [
  {
   "cell_type": "markdown",
   "metadata": {
    "id": "xH8t7-q8byRm"
   },
   "source": [
    "<h1 style=\"font-size: 2.5em;\">한성대 AI응용학과/컴퓨터공학부</h1>\n",
    "<h1 style=\"font-size: 2.5em;\">2393084 김민상</h1>\n",
    "<br><br>"
   ]
  },
  {
   "cell_type": "markdown",
   "metadata": {},
   "source": [
    "<h1>머신러닝 기말 프로젝트 발표 목차</h1><br>\n",
    "<p style=\"font-size: 1.2em;\">1. 주제 선정 과정(사용 프롬프트)</p>\n",
    "<p style=\"font-size: 1.2em;\">2. 기말 프로젝트 목표</p>\n",
    "<p style=\"font-size: 1.2em;\">3. 데이터셋 설명 및 전처리</p>\n",
    "<p style=\"font-size: 1.2em;\">4. 모델 정의 및 학습</p>\n",
    "<p style=\"font-size: 1.2em;\">5. 성능 비교</p>"
   ]
  },
  {
   "cell_type": "markdown",
   "metadata": {},
   "source": [
    "<h1>1. 주제 선정 과정(사용 프롬프트)</h1><br>"
   ]
  },
  {
   "cell_type": "markdown",
   "metadata": {},
   "source": [
    "<img src=\"https://raw.githubusercontent.com/kimstitute/University/main/XGBoost_first_search.png\" alt=\"first search\" width=\"1000\">"
   ]
  },
  {
   "cell_type": "markdown",
   "metadata": {},
   "source": [
    "<p>&rArr; <b>인공신경망</b>보다 비교적 덜 익숙한 <b>인공지능 알고리즘</b>을 사용하여 과제를 진행하기로 결정</p>\n",
    "<p>&rArr; <b>Kaggle 대회</b>에서 자주 사용되는 <b>XGBoost 알고리즘</b>을 이 기회에 연습하기로 결정</p>\n",
    "<p>&rArr; <b>XGBoost 알고리즘</b>을 활용하기 적절한 프로젝트 주제를 <b>GPT 4o</b>에게 추천 부탁</p>\n",
    "<p>&rArr; 사용할 알고리즘을 먼저 정한 다음 사용할 Dataset을 정한 것</p>"
   ]
  },
  {
   "cell_type": "markdown",
   "metadata": {},
   "source": [
    "<img src=\"https://raw.githubusercontent.com/kimstitute/University/main/XGBoost_first_answer.png\" alt=\"first search\" width=\"1000\">"
   ]
  },
  {
   "cell_type": "markdown",
   "metadata": {},
   "source": [
    "<p>&rArr; <b>GPT 4o</b>가 추천한 주제 목록 중 한 가지를 선택</p>\n",
    "<p>&rArr; <b>Kaggle</b>로 출처가 명확하고 Table 형태의 Dataset이라 <b>XGBoost 알고리즘</b> 시험 대상으로 적절하다 판단 </p>\n",
    "<p>&rArr; 링크로 들어가본 <b>Dataset</b> 내용과 <b>GPT 4o</b>의 설명에 약간의 차이 발견</p>"
   ]
  },
  {
   "cell_type": "markdown",
   "metadata": {},
   "source": [
    "<img src=\"https://raw.githubusercontent.com/kimstitute/University/main/graduate_or_college.png\" alt=\"graduate or college\" width=\"1000\">"
   ]
  },
  {
   "cell_type": "markdown",
   "metadata": {},
   "source": [
    "<p>&rArr; 대학 입학 데이터라는 <b>GPT 4o</b>의 설명과 달리 대학원 입학에 대한 데이터임을 재질문하여 확인</p>\n",
    "<p>&rArr; 아이디어 구상 단계에서 생성형 AI를 활용하여 만족스러운 결과를 얻었지만, 생성된 내용의 정확도를 맹신하면 안 됨을 인지</p>"
   ]
  },
  {
   "cell_type": "markdown",
   "metadata": {},
   "source": [
    "<h1>2. 기말 프로젝트 목표</h1><br>\n",
    "<p style=\"font-size: 1.3em;\">대학원 지원자들의 스펙 정보 Dataset을 통해 합격 가능성을 추론하는 XGBoost 기반 회귀 모델 구현<p>\n",
    "<p>&rArr; 1. XGBoost 사용 방법 설명 가능하게 숙달하기</p>\n",
    "<p>&rArr; 2. Validation Data를 나눠 학습 도중 성능을 측정하는 방법과 Cross Validation 방법으로 학습 도중 성능 측정하는 방법 비교하기</p>"
   ]
  },
  {
   "cell_type": "markdown",
   "metadata": {},
   "source": [
    "<h1>3. 데이터셋 설명 및 전처리</h1><br>\n",
    "<p>&rArr;사용한 Dataset(Graduate Admissions Dataset)은 인도의 대학원 지원자들의 정보와 합격 가능성을 포함한 Dataset이다.</p>\n",
    "\n",
    "<p>&rArr;본 Dataset은 8개의 특징들을 포함한다. (Serial No. 제외)</p>\n",
    "<p>&nbsp;&nbsp;&nbsp;&nbsp;1. GRE Scores ( out of 340 ) - 미국 대학원 수학 자격 시험 점수</p>\n",
    "<p>&nbsp;&nbsp;&nbsp;&nbsp;2. TOEFL Scores ( out of 120 ) - 공인 영어 점수</p>\n",
    "<p>&nbsp;&nbsp;&nbsp;&nbsp;3. University Rating ( out of 5 ) - 대학교 등급</p>\n",
    "<p>&nbsp;&nbsp;&nbsp;&nbsp;4. Statement of Purpose - 학업 계획서 평가 점수</p>\n",
    "<p>&nbsp;&nbsp;&nbsp;&nbsp;5. Letter of Recommendation Strength ( out of 5 ) - 추천서 강도</p>\n",
    "<p>&nbsp;&nbsp;&nbsp;&nbsp;6. Undergraduate GPA ( out of 10 ) - 학부 학점</p>\n",
    "<p>&nbsp;&nbsp;&nbsp;&nbsp;7. Research Experience ( either 0 or 1 ) - 연구 경험(1이면 있음)</p>\n",
    "<p style=\"color:red;\"><b>&nbsp;&nbsp;&nbsp;&nbsp;8. Chance of Admit ( ranging from 0 to 1 ) - 입학 가능성</b></p>\n",
    "\n",
    "\n",
    "<p>&rArr;1~7번의 7개의 특징 정보를 input으로 8번 특징 Chance of Admit을 target으로 하여 학습</p> \n",
    "<p>&rArr;새로운 data를 입력 받았을 때, 입학 가능성을 출력하는 회귀 추론 모델을 만든다</p>"
   ]
  },
  {
   "cell_type": "code",
   "execution_count": 101,
   "metadata": {
    "colab": {
     "base_uri": "https://localhost:8080/"
    },
    "id": "NyfiPQ6XbluP",
    "outputId": "e87c61a6-30e4-427d-f2e6-56b70ec9c0a1"
   },
   "outputs": [],
   "source": [
    "# 사용할 라이브러리 정리\n",
    "# Dataset 로드/열람 위한 라이브러리들\n",
    "import pandas as pd\n",
    "import numpy as np\n",
    "\n",
    "# 데이터 시각화 위한 라이브러리들\n",
    "import matplotlib.pyplot as plt\n",
    "\n",
    "# 전역 변수 지정\n",
    "# 랜덤 시드를 고정해서 훈련 결과 재현성 보장\n",
    "RANDOM_SEED = 10"
   ]
  },
  {
   "cell_type": "markdown",
   "metadata": {},
   "source": [
    "<p>&rArr;사용할 라이브러리들을 불러오가</p>\n",
    "<p>&rArr;결과 재현성을 보장하기 위해, 랜덤 시드를 고정</p>"
   ]
  },
  {
   "cell_type": "code",
   "execution_count": 102,
   "metadata": {},
   "outputs": [
    {
     "data": {
      "text/plain": [
       "(500, 9)"
      ]
     },
     "execution_count": 102,
     "metadata": {},
     "output_type": "execute_result"
    }
   ],
   "source": [
    "# csv파일 불러오는 코드\n",
    "data_frame = pd.read_csv('./Admission_Predict_Ver1.1.csv')\n",
    "\n",
    "# 불러온 csv파일(DataFrame) 크기 보는 코드\n",
    "data_frame.shape"
   ]
  },
  {
   "cell_type": "code",
   "execution_count": 103,
   "metadata": {},
   "outputs": [
    {
     "name": "stdout",
     "output_type": "stream",
     "text": [
      "<class 'pandas.core.frame.DataFrame'>\n"
     ]
    }
   ],
   "source": [
    "# data_frame의 자료형이 Pandas에서 제공하는 DataFrame임을 확인\n",
    "print(type(data_frame))"
   ]
  },
  {
   "cell_type": "code",
   "execution_count": 104,
   "metadata": {},
   "outputs": [
    {
     "data": {
      "text/html": [
       "<div>\n",
       "<style scoped>\n",
       "    .dataframe tbody tr th:only-of-type {\n",
       "        vertical-align: middle;\n",
       "    }\n",
       "\n",
       "    .dataframe tbody tr th {\n",
       "        vertical-align: top;\n",
       "    }\n",
       "\n",
       "    .dataframe thead th {\n",
       "        text-align: right;\n",
       "    }\n",
       "</style>\n",
       "<table border=\"1\" class=\"dataframe\">\n",
       "  <thead>\n",
       "    <tr style=\"text-align: right;\">\n",
       "      <th></th>\n",
       "      <th>Serial No.</th>\n",
       "      <th>GRE Score</th>\n",
       "      <th>TOEFL Score</th>\n",
       "      <th>University Rating</th>\n",
       "      <th>SOP</th>\n",
       "      <th>LOR</th>\n",
       "      <th>CGPA</th>\n",
       "      <th>Research</th>\n",
       "      <th>Chance of Admit</th>\n",
       "    </tr>\n",
       "  </thead>\n",
       "  <tbody>\n",
       "    <tr>\n",
       "      <th>0</th>\n",
       "      <td>1</td>\n",
       "      <td>337</td>\n",
       "      <td>118</td>\n",
       "      <td>4</td>\n",
       "      <td>4.5</td>\n",
       "      <td>4.5</td>\n",
       "      <td>9.65</td>\n",
       "      <td>1</td>\n",
       "      <td>0.92</td>\n",
       "    </tr>\n",
       "    <tr>\n",
       "      <th>1</th>\n",
       "      <td>2</td>\n",
       "      <td>324</td>\n",
       "      <td>107</td>\n",
       "      <td>4</td>\n",
       "      <td>4.0</td>\n",
       "      <td>4.5</td>\n",
       "      <td>8.87</td>\n",
       "      <td>1</td>\n",
       "      <td>0.76</td>\n",
       "    </tr>\n",
       "    <tr>\n",
       "      <th>2</th>\n",
       "      <td>3</td>\n",
       "      <td>316</td>\n",
       "      <td>104</td>\n",
       "      <td>3</td>\n",
       "      <td>3.0</td>\n",
       "      <td>3.5</td>\n",
       "      <td>8.00</td>\n",
       "      <td>1</td>\n",
       "      <td>0.72</td>\n",
       "    </tr>\n",
       "    <tr>\n",
       "      <th>3</th>\n",
       "      <td>4</td>\n",
       "      <td>322</td>\n",
       "      <td>110</td>\n",
       "      <td>3</td>\n",
       "      <td>3.5</td>\n",
       "      <td>2.5</td>\n",
       "      <td>8.67</td>\n",
       "      <td>1</td>\n",
       "      <td>0.80</td>\n",
       "    </tr>\n",
       "    <tr>\n",
       "      <th>4</th>\n",
       "      <td>5</td>\n",
       "      <td>314</td>\n",
       "      <td>103</td>\n",
       "      <td>2</td>\n",
       "      <td>2.0</td>\n",
       "      <td>3.0</td>\n",
       "      <td>8.21</td>\n",
       "      <td>0</td>\n",
       "      <td>0.65</td>\n",
       "    </tr>\n",
       "    <tr>\n",
       "      <th>5</th>\n",
       "      <td>6</td>\n",
       "      <td>330</td>\n",
       "      <td>115</td>\n",
       "      <td>5</td>\n",
       "      <td>4.5</td>\n",
       "      <td>3.0</td>\n",
       "      <td>9.34</td>\n",
       "      <td>1</td>\n",
       "      <td>0.90</td>\n",
       "    </tr>\n",
       "    <tr>\n",
       "      <th>6</th>\n",
       "      <td>7</td>\n",
       "      <td>321</td>\n",
       "      <td>109</td>\n",
       "      <td>3</td>\n",
       "      <td>3.0</td>\n",
       "      <td>4.0</td>\n",
       "      <td>8.20</td>\n",
       "      <td>1</td>\n",
       "      <td>0.75</td>\n",
       "    </tr>\n",
       "    <tr>\n",
       "      <th>7</th>\n",
       "      <td>8</td>\n",
       "      <td>308</td>\n",
       "      <td>101</td>\n",
       "      <td>2</td>\n",
       "      <td>3.0</td>\n",
       "      <td>4.0</td>\n",
       "      <td>7.90</td>\n",
       "      <td>0</td>\n",
       "      <td>0.68</td>\n",
       "    </tr>\n",
       "    <tr>\n",
       "      <th>8</th>\n",
       "      <td>9</td>\n",
       "      <td>302</td>\n",
       "      <td>102</td>\n",
       "      <td>1</td>\n",
       "      <td>2.0</td>\n",
       "      <td>1.5</td>\n",
       "      <td>8.00</td>\n",
       "      <td>0</td>\n",
       "      <td>0.50</td>\n",
       "    </tr>\n",
       "    <tr>\n",
       "      <th>9</th>\n",
       "      <td>10</td>\n",
       "      <td>323</td>\n",
       "      <td>108</td>\n",
       "      <td>3</td>\n",
       "      <td>3.5</td>\n",
       "      <td>3.0</td>\n",
       "      <td>8.60</td>\n",
       "      <td>0</td>\n",
       "      <td>0.45</td>\n",
       "    </tr>\n",
       "  </tbody>\n",
       "</table>\n",
       "</div>"
      ],
      "text/plain": [
       "   Serial No.  GRE Score  TOEFL Score  University Rating  SOP  LOR   CGPA  \\\n",
       "0           1        337          118                  4  4.5   4.5  9.65   \n",
       "1           2        324          107                  4  4.0   4.5  8.87   \n",
       "2           3        316          104                  3  3.0   3.5  8.00   \n",
       "3           4        322          110                  3  3.5   2.5  8.67   \n",
       "4           5        314          103                  2  2.0   3.0  8.21   \n",
       "5           6        330          115                  5  4.5   3.0  9.34   \n",
       "6           7        321          109                  3  3.0   4.0  8.20   \n",
       "7           8        308          101                  2  3.0   4.0  7.90   \n",
       "8           9        302          102                  1  2.0   1.5  8.00   \n",
       "9          10        323          108                  3  3.5   3.0  8.60   \n",
       "\n",
       "   Research  Chance of Admit   \n",
       "0         1              0.92  \n",
       "1         1              0.76  \n",
       "2         1              0.72  \n",
       "3         1              0.80  \n",
       "4         0              0.65  \n",
       "5         1              0.90  \n",
       "6         1              0.75  \n",
       "7         0              0.68  \n",
       "8         0              0.50  \n",
       "9         0              0.45  "
      ]
     },
     "execution_count": 104,
     "metadata": {},
     "output_type": "execute_result"
    }
   ],
   "source": [
    "# 불러온 csv파일 상위 n개 행 보는 코드\n",
    "data_frame.head(10)"
   ]
  },
  {
   "cell_type": "markdown",
   "metadata": {},
   "source": [
    "<p>&rArr;CSV파일로 된 Dataset을 불러오고 크기와 자료형 그리고 상위 10개 행을 출력해 확인</p>\n",
    "<p>&rArr;범주형 변수가 있었다면, 전처리 과정으로 one-hot encoding이 필요했겠지만, 해당 데이터에 범주형 존재 X</p>\n",
    "<p>&rArr;Research의 경우 이미 이진 변수라 one-hot encoding을 하지 않아도 됨</p>"
   ]
  },
  {
   "cell_type": "code",
   "execution_count": 105,
   "metadata": {},
   "outputs": [
    {
     "data": {
      "text/html": [
       "<div>\n",
       "<style scoped>\n",
       "    .dataframe tbody tr th:only-of-type {\n",
       "        vertical-align: middle;\n",
       "    }\n",
       "\n",
       "    .dataframe tbody tr th {\n",
       "        vertical-align: top;\n",
       "    }\n",
       "\n",
       "    .dataframe thead th {\n",
       "        text-align: right;\n",
       "    }\n",
       "</style>\n",
       "<table border=\"1\" class=\"dataframe\">\n",
       "  <thead>\n",
       "    <tr style=\"text-align: right;\">\n",
       "      <th></th>\n",
       "      <th>GRE Score</th>\n",
       "      <th>TOEFL Score</th>\n",
       "      <th>University Rating</th>\n",
       "      <th>SOP</th>\n",
       "      <th>LOR</th>\n",
       "      <th>CGPA</th>\n",
       "      <th>Research</th>\n",
       "      <th>Chance of Admit</th>\n",
       "    </tr>\n",
       "  </thead>\n",
       "  <tbody>\n",
       "    <tr>\n",
       "      <th>0</th>\n",
       "      <td>337</td>\n",
       "      <td>118</td>\n",
       "      <td>4</td>\n",
       "      <td>4.5</td>\n",
       "      <td>4.5</td>\n",
       "      <td>9.65</td>\n",
       "      <td>1</td>\n",
       "      <td>0.92</td>\n",
       "    </tr>\n",
       "    <tr>\n",
       "      <th>1</th>\n",
       "      <td>324</td>\n",
       "      <td>107</td>\n",
       "      <td>4</td>\n",
       "      <td>4.0</td>\n",
       "      <td>4.5</td>\n",
       "      <td>8.87</td>\n",
       "      <td>1</td>\n",
       "      <td>0.76</td>\n",
       "    </tr>\n",
       "    <tr>\n",
       "      <th>2</th>\n",
       "      <td>316</td>\n",
       "      <td>104</td>\n",
       "      <td>3</td>\n",
       "      <td>3.0</td>\n",
       "      <td>3.5</td>\n",
       "      <td>8.00</td>\n",
       "      <td>1</td>\n",
       "      <td>0.72</td>\n",
       "    </tr>\n",
       "    <tr>\n",
       "      <th>3</th>\n",
       "      <td>322</td>\n",
       "      <td>110</td>\n",
       "      <td>3</td>\n",
       "      <td>3.5</td>\n",
       "      <td>2.5</td>\n",
       "      <td>8.67</td>\n",
       "      <td>1</td>\n",
       "      <td>0.80</td>\n",
       "    </tr>\n",
       "    <tr>\n",
       "      <th>4</th>\n",
       "      <td>314</td>\n",
       "      <td>103</td>\n",
       "      <td>2</td>\n",
       "      <td>2.0</td>\n",
       "      <td>3.0</td>\n",
       "      <td>8.21</td>\n",
       "      <td>0</td>\n",
       "      <td>0.65</td>\n",
       "    </tr>\n",
       "    <tr>\n",
       "      <th>5</th>\n",
       "      <td>330</td>\n",
       "      <td>115</td>\n",
       "      <td>5</td>\n",
       "      <td>4.5</td>\n",
       "      <td>3.0</td>\n",
       "      <td>9.34</td>\n",
       "      <td>1</td>\n",
       "      <td>0.90</td>\n",
       "    </tr>\n",
       "    <tr>\n",
       "      <th>6</th>\n",
       "      <td>321</td>\n",
       "      <td>109</td>\n",
       "      <td>3</td>\n",
       "      <td>3.0</td>\n",
       "      <td>4.0</td>\n",
       "      <td>8.20</td>\n",
       "      <td>1</td>\n",
       "      <td>0.75</td>\n",
       "    </tr>\n",
       "    <tr>\n",
       "      <th>7</th>\n",
       "      <td>308</td>\n",
       "      <td>101</td>\n",
       "      <td>2</td>\n",
       "      <td>3.0</td>\n",
       "      <td>4.0</td>\n",
       "      <td>7.90</td>\n",
       "      <td>0</td>\n",
       "      <td>0.68</td>\n",
       "    </tr>\n",
       "    <tr>\n",
       "      <th>8</th>\n",
       "      <td>302</td>\n",
       "      <td>102</td>\n",
       "      <td>1</td>\n",
       "      <td>2.0</td>\n",
       "      <td>1.5</td>\n",
       "      <td>8.00</td>\n",
       "      <td>0</td>\n",
       "      <td>0.50</td>\n",
       "    </tr>\n",
       "    <tr>\n",
       "      <th>9</th>\n",
       "      <td>323</td>\n",
       "      <td>108</td>\n",
       "      <td>3</td>\n",
       "      <td>3.5</td>\n",
       "      <td>3.0</td>\n",
       "      <td>8.60</td>\n",
       "      <td>0</td>\n",
       "      <td>0.45</td>\n",
       "    </tr>\n",
       "  </tbody>\n",
       "</table>\n",
       "</div>"
      ],
      "text/plain": [
       "   GRE Score  TOEFL Score  University Rating  SOP  LOR   CGPA  Research  \\\n",
       "0        337          118                  4  4.5   4.5  9.65         1   \n",
       "1        324          107                  4  4.0   4.5  8.87         1   \n",
       "2        316          104                  3  3.0   3.5  8.00         1   \n",
       "3        322          110                  3  3.5   2.5  8.67         1   \n",
       "4        314          103                  2  2.0   3.0  8.21         0   \n",
       "5        330          115                  5  4.5   3.0  9.34         1   \n",
       "6        321          109                  3  3.0   4.0  8.20         1   \n",
       "7        308          101                  2  3.0   4.0  7.90         0   \n",
       "8        302          102                  1  2.0   1.5  8.00         0   \n",
       "9        323          108                  3  3.5   3.0  8.60         0   \n",
       "\n",
       "   Chance of Admit   \n",
       "0              0.92  \n",
       "1              0.76  \n",
       "2              0.72  \n",
       "3              0.80  \n",
       "4              0.65  \n",
       "5              0.90  \n",
       "6              0.75  \n",
       "7              0.68  \n",
       "8              0.50  \n",
       "9              0.45  "
      ]
     },
     "execution_count": 105,
     "metadata": {},
     "output_type": "execute_result"
    }
   ],
   "source": [
    "# 불필요한 데이터(Serial No.열)를 제거하는 코드, axis=0이면 행을 제거\n",
    "data_frame = data_frame.drop(['Serial No.'], axis=1)\n",
    "data_frame.head(10)"
   ]
  },
  {
   "cell_type": "code",
   "execution_count": 106,
   "metadata": {},
   "outputs": [
    {
     "data": {
      "text/plain": [
       "(500, 8)"
      ]
     },
     "execution_count": 106,
     "metadata": {},
     "output_type": "execute_result"
    }
   ],
   "source": [
    "# csv파일(DataFrame) 크기 보는 코드\n",
    "data_frame.shape"
   ]
  },
  {
   "cell_type": "markdown",
   "metadata": {},
   "source": [
    "<p>&rArr;학습 시 사용하지 않을 불필요한 데이터(Serial No.열)를 제거</p>\n",
    "<p>&rArr;다시 Dataset의 크기를 출력해서 열이 줄어든 것 확인</p>"
   ]
  },
  {
   "cell_type": "code",
   "execution_count": 107,
   "metadata": {},
   "outputs": [
    {
     "data": {
      "text/html": [
       "<div>\n",
       "<style scoped>\n",
       "    .dataframe tbody tr th:only-of-type {\n",
       "        vertical-align: middle;\n",
       "    }\n",
       "\n",
       "    .dataframe tbody tr th {\n",
       "        vertical-align: top;\n",
       "    }\n",
       "\n",
       "    .dataframe thead th {\n",
       "        text-align: right;\n",
       "    }\n",
       "</style>\n",
       "<table border=\"1\" class=\"dataframe\">\n",
       "  <thead>\n",
       "    <tr style=\"text-align: right;\">\n",
       "      <th></th>\n",
       "      <th>GRE Score</th>\n",
       "      <th>TOEFL Score</th>\n",
       "      <th>University Rating</th>\n",
       "      <th>SOP</th>\n",
       "      <th>LOR</th>\n",
       "      <th>CGPA</th>\n",
       "      <th>Research</th>\n",
       "      <th>Chance of Admit</th>\n",
       "    </tr>\n",
       "  </thead>\n",
       "  <tbody>\n",
       "    <tr>\n",
       "      <th>0</th>\n",
       "      <td>False</td>\n",
       "      <td>False</td>\n",
       "      <td>False</td>\n",
       "      <td>False</td>\n",
       "      <td>False</td>\n",
       "      <td>False</td>\n",
       "      <td>False</td>\n",
       "      <td>False</td>\n",
       "    </tr>\n",
       "    <tr>\n",
       "      <th>1</th>\n",
       "      <td>False</td>\n",
       "      <td>False</td>\n",
       "      <td>False</td>\n",
       "      <td>False</td>\n",
       "      <td>False</td>\n",
       "      <td>False</td>\n",
       "      <td>False</td>\n",
       "      <td>False</td>\n",
       "    </tr>\n",
       "    <tr>\n",
       "      <th>2</th>\n",
       "      <td>False</td>\n",
       "      <td>False</td>\n",
       "      <td>False</td>\n",
       "      <td>False</td>\n",
       "      <td>False</td>\n",
       "      <td>False</td>\n",
       "      <td>False</td>\n",
       "      <td>False</td>\n",
       "    </tr>\n",
       "    <tr>\n",
       "      <th>3</th>\n",
       "      <td>False</td>\n",
       "      <td>False</td>\n",
       "      <td>False</td>\n",
       "      <td>False</td>\n",
       "      <td>False</td>\n",
       "      <td>False</td>\n",
       "      <td>False</td>\n",
       "      <td>False</td>\n",
       "    </tr>\n",
       "    <tr>\n",
       "      <th>4</th>\n",
       "      <td>False</td>\n",
       "      <td>False</td>\n",
       "      <td>False</td>\n",
       "      <td>False</td>\n",
       "      <td>False</td>\n",
       "      <td>False</td>\n",
       "      <td>False</td>\n",
       "      <td>False</td>\n",
       "    </tr>\n",
       "    <tr>\n",
       "      <th>5</th>\n",
       "      <td>False</td>\n",
       "      <td>False</td>\n",
       "      <td>False</td>\n",
       "      <td>False</td>\n",
       "      <td>False</td>\n",
       "      <td>False</td>\n",
       "      <td>False</td>\n",
       "      <td>False</td>\n",
       "    </tr>\n",
       "    <tr>\n",
       "      <th>6</th>\n",
       "      <td>False</td>\n",
       "      <td>False</td>\n",
       "      <td>False</td>\n",
       "      <td>False</td>\n",
       "      <td>False</td>\n",
       "      <td>False</td>\n",
       "      <td>False</td>\n",
       "      <td>False</td>\n",
       "    </tr>\n",
       "    <tr>\n",
       "      <th>7</th>\n",
       "      <td>False</td>\n",
       "      <td>False</td>\n",
       "      <td>False</td>\n",
       "      <td>False</td>\n",
       "      <td>False</td>\n",
       "      <td>False</td>\n",
       "      <td>False</td>\n",
       "      <td>False</td>\n",
       "    </tr>\n",
       "    <tr>\n",
       "      <th>8</th>\n",
       "      <td>False</td>\n",
       "      <td>False</td>\n",
       "      <td>False</td>\n",
       "      <td>False</td>\n",
       "      <td>False</td>\n",
       "      <td>False</td>\n",
       "      <td>False</td>\n",
       "      <td>False</td>\n",
       "    </tr>\n",
       "    <tr>\n",
       "      <th>9</th>\n",
       "      <td>False</td>\n",
       "      <td>False</td>\n",
       "      <td>False</td>\n",
       "      <td>False</td>\n",
       "      <td>False</td>\n",
       "      <td>False</td>\n",
       "      <td>False</td>\n",
       "      <td>False</td>\n",
       "    </tr>\n",
       "  </tbody>\n",
       "</table>\n",
       "</div>"
      ],
      "text/plain": [
       "   GRE Score  TOEFL Score  University Rating    SOP   LOR    CGPA  Research  \\\n",
       "0      False        False              False  False  False  False     False   \n",
       "1      False        False              False  False  False  False     False   \n",
       "2      False        False              False  False  False  False     False   \n",
       "3      False        False              False  False  False  False     False   \n",
       "4      False        False              False  False  False  False     False   \n",
       "5      False        False              False  False  False  False     False   \n",
       "6      False        False              False  False  False  False     False   \n",
       "7      False        False              False  False  False  False     False   \n",
       "8      False        False              False  False  False  False     False   \n",
       "9      False        False              False  False  False  False     False   \n",
       "\n",
       "   Chance of Admit   \n",
       "0             False  \n",
       "1             False  \n",
       "2             False  \n",
       "3             False  \n",
       "4             False  \n",
       "5             False  \n",
       "6             False  \n",
       "7             False  \n",
       "8             False  \n",
       "9             False  "
      ]
     },
     "execution_count": 107,
     "metadata": {},
     "output_type": "execute_result"
    }
   ],
   "source": [
    "# DataFrame에 결측값이 있는지 확인하는 코드, True가 결측값을 나타낸다.\n",
    "data_frame2 = data_frame.isnull()\n",
    "data_frame2.head(10)"
   ]
  },
  {
   "cell_type": "code",
   "execution_count": 108,
   "metadata": {
    "scrolled": false
   },
   "outputs": [
    {
     "data": {
      "text/plain": [
       "GRE Score            0\n",
       "TOEFL Score          0\n",
       "University Rating    0\n",
       "SOP                  0\n",
       "LOR                  0\n",
       "CGPA                 0\n",
       "Research             0\n",
       "Chance of Admit      0\n",
       "dtype: int64"
      ]
     },
     "execution_count": 108,
     "metadata": {},
     "output_type": "execute_result"
    }
   ],
   "source": [
    "# 각 열 별로 결측값의 개수 계산하는 코드\n",
    "data_frame.isnull().sum()"
   ]
  },
  {
   "cell_type": "markdown",
   "metadata": {},
   "source": [
    "<p>&rArr;Datatset에 결측값이 존재하는지 확인하고 각 열별로 결측값 수 계산</p>\n",
    "<p>&rArr;결측값이 존재하지 않는 것 확인</p>\n",
    "\n",
    "<div>&rArr;만약, 결측값이 존재했다면<br><br>\n",
    "&nbsp;&nbsp;&nbsp;&nbsp;&nbsp;&nbsp;&nbsp;&nbsp;1. 결측값이 포함된 행을 삭제<br>\n",
    "&nbsp;&nbsp;&nbsp;&nbsp;&nbsp;&nbsp;&nbsp;&nbsp;2. 결측값을 평균값, 중앙값, 최빈값(범주형 데이터의 경우) 등으로 대체<br><br>\n",
    "&nbsp;&nbsp;&nbsp;&nbsp;두 방법 중 하나로 추가 전처리가 필요</div>"
   ]
  },
  {
   "cell_type": "code",
   "execution_count": 109,
   "metadata": {},
   "outputs": [
    {
     "data": {
      "text/plain": [
       "Index(['GRE Score', 'TOEFL Score', 'University Rating', 'SOP', 'LOR ', 'CGPA',\n",
       "       'Research', 'Chance of Admit '],\n",
       "      dtype='object')"
      ]
     },
     "execution_count": 109,
     "metadata": {},
     "output_type": "execute_result"
    }
   ],
   "source": [
    "# DataFrame의 열 이름들을 반환하는 코드, 반환값은 Index 객체\n",
    "data_frame.columns"
   ]
  },
  {
   "cell_type": "code",
   "execution_count": 110,
   "metadata": {},
   "outputs": [
    {
     "data": {
      "text/html": [
       "<div>\n",
       "<style scoped>\n",
       "    .dataframe tbody tr th:only-of-type {\n",
       "        vertical-align: middle;\n",
       "    }\n",
       "\n",
       "    .dataframe tbody tr th {\n",
       "        vertical-align: top;\n",
       "    }\n",
       "\n",
       "    .dataframe thead th {\n",
       "        text-align: right;\n",
       "    }\n",
       "</style>\n",
       "<table border=\"1\" class=\"dataframe\">\n",
       "  <thead>\n",
       "    <tr style=\"text-align: right;\">\n",
       "      <th></th>\n",
       "      <th>GRE_Score</th>\n",
       "      <th>TOEFL_Score</th>\n",
       "      <th>University_Rating</th>\n",
       "      <th>SOP</th>\n",
       "      <th>LOR</th>\n",
       "      <th>CGPA</th>\n",
       "      <th>Research</th>\n",
       "      <th>Chance_of_Admit</th>\n",
       "    </tr>\n",
       "  </thead>\n",
       "  <tbody>\n",
       "    <tr>\n",
       "      <th>0</th>\n",
       "      <td>337</td>\n",
       "      <td>118</td>\n",
       "      <td>4</td>\n",
       "      <td>4.5</td>\n",
       "      <td>4.5</td>\n",
       "      <td>9.65</td>\n",
       "      <td>1</td>\n",
       "      <td>0.92</td>\n",
       "    </tr>\n",
       "    <tr>\n",
       "      <th>1</th>\n",
       "      <td>324</td>\n",
       "      <td>107</td>\n",
       "      <td>4</td>\n",
       "      <td>4.0</td>\n",
       "      <td>4.5</td>\n",
       "      <td>8.87</td>\n",
       "      <td>1</td>\n",
       "      <td>0.76</td>\n",
       "    </tr>\n",
       "    <tr>\n",
       "      <th>2</th>\n",
       "      <td>316</td>\n",
       "      <td>104</td>\n",
       "      <td>3</td>\n",
       "      <td>3.0</td>\n",
       "      <td>3.5</td>\n",
       "      <td>8.00</td>\n",
       "      <td>1</td>\n",
       "      <td>0.72</td>\n",
       "    </tr>\n",
       "    <tr>\n",
       "      <th>3</th>\n",
       "      <td>322</td>\n",
       "      <td>110</td>\n",
       "      <td>3</td>\n",
       "      <td>3.5</td>\n",
       "      <td>2.5</td>\n",
       "      <td>8.67</td>\n",
       "      <td>1</td>\n",
       "      <td>0.80</td>\n",
       "    </tr>\n",
       "    <tr>\n",
       "      <th>4</th>\n",
       "      <td>314</td>\n",
       "      <td>103</td>\n",
       "      <td>2</td>\n",
       "      <td>2.0</td>\n",
       "      <td>3.0</td>\n",
       "      <td>8.21</td>\n",
       "      <td>0</td>\n",
       "      <td>0.65</td>\n",
       "    </tr>\n",
       "    <tr>\n",
       "      <th>5</th>\n",
       "      <td>330</td>\n",
       "      <td>115</td>\n",
       "      <td>5</td>\n",
       "      <td>4.5</td>\n",
       "      <td>3.0</td>\n",
       "      <td>9.34</td>\n",
       "      <td>1</td>\n",
       "      <td>0.90</td>\n",
       "    </tr>\n",
       "    <tr>\n",
       "      <th>6</th>\n",
       "      <td>321</td>\n",
       "      <td>109</td>\n",
       "      <td>3</td>\n",
       "      <td>3.0</td>\n",
       "      <td>4.0</td>\n",
       "      <td>8.20</td>\n",
       "      <td>1</td>\n",
       "      <td>0.75</td>\n",
       "    </tr>\n",
       "    <tr>\n",
       "      <th>7</th>\n",
       "      <td>308</td>\n",
       "      <td>101</td>\n",
       "      <td>2</td>\n",
       "      <td>3.0</td>\n",
       "      <td>4.0</td>\n",
       "      <td>7.90</td>\n",
       "      <td>0</td>\n",
       "      <td>0.68</td>\n",
       "    </tr>\n",
       "    <tr>\n",
       "      <th>8</th>\n",
       "      <td>302</td>\n",
       "      <td>102</td>\n",
       "      <td>1</td>\n",
       "      <td>2.0</td>\n",
       "      <td>1.5</td>\n",
       "      <td>8.00</td>\n",
       "      <td>0</td>\n",
       "      <td>0.50</td>\n",
       "    </tr>\n",
       "    <tr>\n",
       "      <th>9</th>\n",
       "      <td>323</td>\n",
       "      <td>108</td>\n",
       "      <td>3</td>\n",
       "      <td>3.5</td>\n",
       "      <td>3.0</td>\n",
       "      <td>8.60</td>\n",
       "      <td>0</td>\n",
       "      <td>0.45</td>\n",
       "    </tr>\n",
       "  </tbody>\n",
       "</table>\n",
       "</div>"
      ],
      "text/plain": [
       "   GRE_Score  TOEFL_Score  University_Rating  SOP  LOR  CGPA  Research  \\\n",
       "0        337          118                  4  4.5  4.5  9.65         1   \n",
       "1        324          107                  4  4.0  4.5  8.87         1   \n",
       "2        316          104                  3  3.0  3.5  8.00         1   \n",
       "3        322          110                  3  3.5  2.5  8.67         1   \n",
       "4        314          103                  2  2.0  3.0  8.21         0   \n",
       "5        330          115                  5  4.5  3.0  9.34         1   \n",
       "6        321          109                  3  3.0  4.0  8.20         1   \n",
       "7        308          101                  2  3.0  4.0  7.90         0   \n",
       "8        302          102                  1  2.0  1.5  8.00         0   \n",
       "9        323          108                  3  3.5  3.0  8.60         0   \n",
       "\n",
       "   Chance_of_Admit  \n",
       "0             0.92  \n",
       "1             0.76  \n",
       "2             0.72  \n",
       "3             0.80  \n",
       "4             0.65  \n",
       "5             0.90  \n",
       "6             0.75  \n",
       "7             0.68  \n",
       "8             0.50  \n",
       "9             0.45  "
      ]
     },
     "execution_count": 110,
     "metadata": {},
     "output_type": "execute_result"
    }
   ],
   "source": [
    "# 오류 예방을 위해 DataFrame의 열 이름들에서 불필요한 공백을 제거하는 코드\n",
    "\n",
    "# 양쪽 옆의 공백 문자를 제거\n",
    "data_frame.columns = data_frame.columns.str.strip()\n",
    "# 문자열 중간의 공백을 언더바(_)로 대체\n",
    "data_frame.columns = data_frame.columns.str.replace(\" \", \"_\")\n",
    "\n",
    "data_frame.head(10)"
   ]
  },
  {
   "cell_type": "markdown",
   "metadata": {},
   "source": [
    "<p>&rArr;열 이름에 공백이나 불필요한 문자 있으면 오류 발생 가능</p>\n",
    "<p>&rArr;열 이름 양 끝 공백 문자 제거, 중간 공백 문자는 언더바(_)로 대체</p>"
   ]
  },
  {
   "cell_type": "code",
   "execution_count": 111,
   "metadata": {},
   "outputs": [
    {
     "data": {
      "text/html": [
       "<div>\n",
       "<style scoped>\n",
       "    .dataframe tbody tr th:only-of-type {\n",
       "        vertical-align: middle;\n",
       "    }\n",
       "\n",
       "    .dataframe tbody tr th {\n",
       "        vertical-align: top;\n",
       "    }\n",
       "\n",
       "    .dataframe thead th {\n",
       "        text-align: right;\n",
       "    }\n",
       "</style>\n",
       "<table border=\"1\" class=\"dataframe\">\n",
       "  <thead>\n",
       "    <tr style=\"text-align: right;\">\n",
       "      <th></th>\n",
       "      <th>GRE_Score</th>\n",
       "      <th>TOEFL_Score</th>\n",
       "      <th>University_Rating</th>\n",
       "      <th>SOP</th>\n",
       "      <th>LOR</th>\n",
       "      <th>CGPA</th>\n",
       "      <th>Research</th>\n",
       "      <th>Chance_of_Admit</th>\n",
       "    </tr>\n",
       "  </thead>\n",
       "  <tbody>\n",
       "    <tr>\n",
       "      <th>count</th>\n",
       "      <td>500.000000</td>\n",
       "      <td>500.000000</td>\n",
       "      <td>500.000000</td>\n",
       "      <td>500.000000</td>\n",
       "      <td>500.00000</td>\n",
       "      <td>500.000000</td>\n",
       "      <td>500.000000</td>\n",
       "      <td>500.00000</td>\n",
       "    </tr>\n",
       "    <tr>\n",
       "      <th>mean</th>\n",
       "      <td>316.472000</td>\n",
       "      <td>107.192000</td>\n",
       "      <td>3.114000</td>\n",
       "      <td>3.374000</td>\n",
       "      <td>3.48400</td>\n",
       "      <td>8.576440</td>\n",
       "      <td>0.560000</td>\n",
       "      <td>0.72174</td>\n",
       "    </tr>\n",
       "    <tr>\n",
       "      <th>std</th>\n",
       "      <td>11.295148</td>\n",
       "      <td>6.081868</td>\n",
       "      <td>1.143512</td>\n",
       "      <td>0.991004</td>\n",
       "      <td>0.92545</td>\n",
       "      <td>0.604813</td>\n",
       "      <td>0.496884</td>\n",
       "      <td>0.14114</td>\n",
       "    </tr>\n",
       "    <tr>\n",
       "      <th>min</th>\n",
       "      <td>290.000000</td>\n",
       "      <td>92.000000</td>\n",
       "      <td>1.000000</td>\n",
       "      <td>1.000000</td>\n",
       "      <td>1.00000</td>\n",
       "      <td>6.800000</td>\n",
       "      <td>0.000000</td>\n",
       "      <td>0.34000</td>\n",
       "    </tr>\n",
       "    <tr>\n",
       "      <th>25%</th>\n",
       "      <td>308.000000</td>\n",
       "      <td>103.000000</td>\n",
       "      <td>2.000000</td>\n",
       "      <td>2.500000</td>\n",
       "      <td>3.00000</td>\n",
       "      <td>8.127500</td>\n",
       "      <td>0.000000</td>\n",
       "      <td>0.63000</td>\n",
       "    </tr>\n",
       "    <tr>\n",
       "      <th>50%</th>\n",
       "      <td>317.000000</td>\n",
       "      <td>107.000000</td>\n",
       "      <td>3.000000</td>\n",
       "      <td>3.500000</td>\n",
       "      <td>3.50000</td>\n",
       "      <td>8.560000</td>\n",
       "      <td>1.000000</td>\n",
       "      <td>0.72000</td>\n",
       "    </tr>\n",
       "    <tr>\n",
       "      <th>75%</th>\n",
       "      <td>325.000000</td>\n",
       "      <td>112.000000</td>\n",
       "      <td>4.000000</td>\n",
       "      <td>4.000000</td>\n",
       "      <td>4.00000</td>\n",
       "      <td>9.040000</td>\n",
       "      <td>1.000000</td>\n",
       "      <td>0.82000</td>\n",
       "    </tr>\n",
       "    <tr>\n",
       "      <th>max</th>\n",
       "      <td>340.000000</td>\n",
       "      <td>120.000000</td>\n",
       "      <td>5.000000</td>\n",
       "      <td>5.000000</td>\n",
       "      <td>5.00000</td>\n",
       "      <td>9.920000</td>\n",
       "      <td>1.000000</td>\n",
       "      <td>0.97000</td>\n",
       "    </tr>\n",
       "  </tbody>\n",
       "</table>\n",
       "</div>"
      ],
      "text/plain": [
       "        GRE_Score  TOEFL_Score  University_Rating         SOP        LOR  \\\n",
       "count  500.000000   500.000000         500.000000  500.000000  500.00000   \n",
       "mean   316.472000   107.192000           3.114000    3.374000    3.48400   \n",
       "std     11.295148     6.081868           1.143512    0.991004    0.92545   \n",
       "min    290.000000    92.000000           1.000000    1.000000    1.00000   \n",
       "25%    308.000000   103.000000           2.000000    2.500000    3.00000   \n",
       "50%    317.000000   107.000000           3.000000    3.500000    3.50000   \n",
       "75%    325.000000   112.000000           4.000000    4.000000    4.00000   \n",
       "max    340.000000   120.000000           5.000000    5.000000    5.00000   \n",
       "\n",
       "             CGPA    Research  Chance_of_Admit  \n",
       "count  500.000000  500.000000        500.00000  \n",
       "mean     8.576440    0.560000          0.72174  \n",
       "std      0.604813    0.496884          0.14114  \n",
       "min      6.800000    0.000000          0.34000  \n",
       "25%      8.127500    0.000000          0.63000  \n",
       "50%      8.560000    1.000000          0.72000  \n",
       "75%      9.040000    1.000000          0.82000  \n",
       "max      9.920000    1.000000          0.97000  "
      ]
     },
     "execution_count": 111,
     "metadata": {},
     "output_type": "execute_result"
    }
   ],
   "source": [
    "# DataFrame의 숫자형 데이터에 한해 통계 정보를 요약 제공하는메서드\n",
    "# count: 값의 개수 (결측값 제외)\n",
    "# mean: 평균\n",
    "# std: 표준 편차\n",
    "# min: 최솟값\n",
    "# 25%: 1사분위수 (하위 25%)\n",
    "# 50%: 중간값 (2사분위수 또는 중앙값)\n",
    "# 75%: 3사분위수 (상위 25%)\n",
    "# max: 최댓값\n",
    "data_frame.describe()"
   ]
  },
  {
   "cell_type": "code",
   "execution_count": 112,
   "metadata": {},
   "outputs": [
    {
     "data": {
      "text/plain": [
       "array([[<Axes: title={'center': 'GRE_Score'}>,\n",
       "        <Axes: title={'center': 'TOEFL_Score'}>,\n",
       "        <Axes: title={'center': 'University_Rating'}>,\n",
       "        <Axes: title={'center': 'SOP'}>],\n",
       "       [<Axes: title={'center': 'LOR'}>,\n",
       "        <Axes: title={'center': 'CGPA'}>,\n",
       "        <Axes: title={'center': 'Research'}>,\n",
       "        <Axes: title={'center': 'Chance_of_Admit'}>]], dtype=object)"
      ]
     },
     "execution_count": 112,
     "metadata": {},
     "output_type": "execute_result"
    },
    {
     "data": {
      "image/png": "[encoded data removed]",
      "text/plain": [
       "<Figure size 1400x700 with 8 Axes>"
      ]
     },
     "metadata": {},
     "output_type": "display_data"
    }
   ],
   "source": [
    "# 각 특징에 대한 히스토그램으로 데이터 시각화\n",
    "data_frame.hist(figsize=(14, 7), bins=10, grid=True, layout=(2, 4))"
   ]
  },
  {
   "cell_type": "markdown",
   "metadata": {},
   "source": [
    "<p>&rArr;(참고용)Dataset에 대한 통계와 히스토그램으로 전체적인 Data분포 확인</p>"
   ]
  },
  {
   "cell_type": "code",
   "execution_count": 113,
   "metadata": {},
   "outputs": [
    {
     "data": {
      "text/html": [
       "<div>\n",
       "<style scoped>\n",
       "    .dataframe tbody tr th:only-of-type {\n",
       "        vertical-align: middle;\n",
       "    }\n",
       "\n",
       "    .dataframe tbody tr th {\n",
       "        vertical-align: top;\n",
       "    }\n",
       "\n",
       "    .dataframe thead th {\n",
       "        text-align: right;\n",
       "    }\n",
       "</style>\n",
       "<table border=\"1\" class=\"dataframe\">\n",
       "  <thead>\n",
       "    <tr style=\"text-align: right;\">\n",
       "      <th></th>\n",
       "      <th>GRE_Score</th>\n",
       "      <th>TOEFL_Score</th>\n",
       "      <th>University_Rating</th>\n",
       "      <th>SOP</th>\n",
       "      <th>LOR</th>\n",
       "      <th>CGPA</th>\n",
       "      <th>Research</th>\n",
       "    </tr>\n",
       "  </thead>\n",
       "  <tbody>\n",
       "    <tr>\n",
       "      <th>0</th>\n",
       "      <td>337</td>\n",
       "      <td>118</td>\n",
       "      <td>4</td>\n",
       "      <td>4.5</td>\n",
       "      <td>4.5</td>\n",
       "      <td>9.65</td>\n",
       "      <td>1</td>\n",
       "    </tr>\n",
       "    <tr>\n",
       "      <th>1</th>\n",
       "      <td>324</td>\n",
       "      <td>107</td>\n",
       "      <td>4</td>\n",
       "      <td>4.0</td>\n",
       "      <td>4.5</td>\n",
       "      <td>8.87</td>\n",
       "      <td>1</td>\n",
       "    </tr>\n",
       "    <tr>\n",
       "      <th>2</th>\n",
       "      <td>316</td>\n",
       "      <td>104</td>\n",
       "      <td>3</td>\n",
       "      <td>3.0</td>\n",
       "      <td>3.5</td>\n",
       "      <td>8.00</td>\n",
       "      <td>1</td>\n",
       "    </tr>\n",
       "    <tr>\n",
       "      <th>3</th>\n",
       "      <td>322</td>\n",
       "      <td>110</td>\n",
       "      <td>3</td>\n",
       "      <td>3.5</td>\n",
       "      <td>2.5</td>\n",
       "      <td>8.67</td>\n",
       "      <td>1</td>\n",
       "    </tr>\n",
       "    <tr>\n",
       "      <th>4</th>\n",
       "      <td>314</td>\n",
       "      <td>103</td>\n",
       "      <td>2</td>\n",
       "      <td>2.0</td>\n",
       "      <td>3.0</td>\n",
       "      <td>8.21</td>\n",
       "      <td>0</td>\n",
       "    </tr>\n",
       "    <tr>\n",
       "      <th>5</th>\n",
       "      <td>330</td>\n",
       "      <td>115</td>\n",
       "      <td>5</td>\n",
       "      <td>4.5</td>\n",
       "      <td>3.0</td>\n",
       "      <td>9.34</td>\n",
       "      <td>1</td>\n",
       "    </tr>\n",
       "    <tr>\n",
       "      <th>6</th>\n",
       "      <td>321</td>\n",
       "      <td>109</td>\n",
       "      <td>3</td>\n",
       "      <td>3.0</td>\n",
       "      <td>4.0</td>\n",
       "      <td>8.20</td>\n",
       "      <td>1</td>\n",
       "    </tr>\n",
       "    <tr>\n",
       "      <th>7</th>\n",
       "      <td>308</td>\n",
       "      <td>101</td>\n",
       "      <td>2</td>\n",
       "      <td>3.0</td>\n",
       "      <td>4.0</td>\n",
       "      <td>7.90</td>\n",
       "      <td>0</td>\n",
       "    </tr>\n",
       "    <tr>\n",
       "      <th>8</th>\n",
       "      <td>302</td>\n",
       "      <td>102</td>\n",
       "      <td>1</td>\n",
       "      <td>2.0</td>\n",
       "      <td>1.5</td>\n",
       "      <td>8.00</td>\n",
       "      <td>0</td>\n",
       "    </tr>\n",
       "    <tr>\n",
       "      <th>9</th>\n",
       "      <td>323</td>\n",
       "      <td>108</td>\n",
       "      <td>3</td>\n",
       "      <td>3.5</td>\n",
       "      <td>3.0</td>\n",
       "      <td>8.60</td>\n",
       "      <td>0</td>\n",
       "    </tr>\n",
       "  </tbody>\n",
       "</table>\n",
       "</div>"
      ],
      "text/plain": [
       "   GRE_Score  TOEFL_Score  University_Rating  SOP  LOR  CGPA  Research\n",
       "0        337          118                  4  4.5  4.5  9.65         1\n",
       "1        324          107                  4  4.0  4.5  8.87         1\n",
       "2        316          104                  3  3.0  3.5  8.00         1\n",
       "3        322          110                  3  3.5  2.5  8.67         1\n",
       "4        314          103                  2  2.0  3.0  8.21         0\n",
       "5        330          115                  5  4.5  3.0  9.34         1\n",
       "6        321          109                  3  3.0  4.0  8.20         1\n",
       "7        308          101                  2  3.0  4.0  7.90         0\n",
       "8        302          102                  1  2.0  1.5  8.00         0\n",
       "9        323          108                  3  3.5  3.0  8.60         0"
      ]
     },
     "execution_count": 113,
     "metadata": {},
     "output_type": "execute_result"
    }
   ],
   "source": [
    "# 모델 학습에서 사용하기 위해 DataFrame에서 target 변수 제거하는 코드\n",
    "input_data_frame = data_frame.drop(['Chance_of_Admit'], axis=1)\n",
    "\n",
    "input_data_frame.head(10)"
   ]
  },
  {
   "cell_type": "code",
   "execution_count": 114,
   "metadata": {},
   "outputs": [
    {
     "data": {
      "text/html": [
       "<div>\n",
       "<style scoped>\n",
       "    .dataframe tbody tr th:only-of-type {\n",
       "        vertical-align: middle;\n",
       "    }\n",
       "\n",
       "    .dataframe tbody tr th {\n",
       "        vertical-align: top;\n",
       "    }\n",
       "\n",
       "    .dataframe thead th {\n",
       "        text-align: right;\n",
       "    }\n",
       "</style>\n",
       "<table border=\"1\" class=\"dataframe\">\n",
       "  <thead>\n",
       "    <tr style=\"text-align: right;\">\n",
       "      <th></th>\n",
       "      <th>Chance_of_Admit</th>\n",
       "    </tr>\n",
       "  </thead>\n",
       "  <tbody>\n",
       "    <tr>\n",
       "      <th>0</th>\n",
       "      <td>0.92</td>\n",
       "    </tr>\n",
       "    <tr>\n",
       "      <th>1</th>\n",
       "      <td>0.76</td>\n",
       "    </tr>\n",
       "    <tr>\n",
       "      <th>2</th>\n",
       "      <td>0.72</td>\n",
       "    </tr>\n",
       "    <tr>\n",
       "      <th>3</th>\n",
       "      <td>0.80</td>\n",
       "    </tr>\n",
       "    <tr>\n",
       "      <th>4</th>\n",
       "      <td>0.65</td>\n",
       "    </tr>\n",
       "    <tr>\n",
       "      <th>5</th>\n",
       "      <td>0.90</td>\n",
       "    </tr>\n",
       "    <tr>\n",
       "      <th>6</th>\n",
       "      <td>0.75</td>\n",
       "    </tr>\n",
       "    <tr>\n",
       "      <th>7</th>\n",
       "      <td>0.68</td>\n",
       "    </tr>\n",
       "    <tr>\n",
       "      <th>8</th>\n",
       "      <td>0.50</td>\n",
       "    </tr>\n",
       "    <tr>\n",
       "      <th>9</th>\n",
       "      <td>0.45</td>\n",
       "    </tr>\n",
       "  </tbody>\n",
       "</table>\n",
       "</div>"
      ],
      "text/plain": [
       "   Chance_of_Admit\n",
       "0             0.92\n",
       "1             0.76\n",
       "2             0.72\n",
       "3             0.80\n",
       "4             0.65\n",
       "5             0.90\n",
       "6             0.75\n",
       "7             0.68\n",
       "8             0.50\n",
       "9             0.45"
      ]
     },
     "execution_count": 114,
     "metadata": {},
     "output_type": "execute_result"
    }
   ],
   "source": [
    "# 모델 학습에서 사용하기 위해 DataFrame에서 target 변수만 남기는 코드\n",
    "target_column = data_frame['Chance_of_Admit'] # series 타입으로 반환\n",
    "target_column = pd.DataFrame(target_column) \n",
    "\n",
    "target_column.head(10)"
   ]
  },
  {
   "cell_type": "code",
   "execution_count": 115,
   "metadata": {},
   "outputs": [
    {
     "name": "stdout",
     "output_type": "stream",
     "text": [
      "input_data_frame.shape=(500, 7)\n",
      "target_column.shape=(500, 1)\n"
     ]
    }
   ],
   "source": [
    "# input_data_frame의 크기 출력\n",
    "print(f\"{input_data_frame.shape=}\")\n",
    "\n",
    "# target_column의 크기 출력\n",
    "print(f\"{target_column.shape=}\")"
   ]
  },
  {
   "cell_type": "markdown",
   "metadata": {},
   "source": [
    "<p>&rArr;Dataset에서 target 변수인 Chance of Admit을 제거하고 input data 생성</p>\n",
    "<p>&rArr;Dataset에서 Chance of Admit만 뽑아내 target data 생성</p>"
   ]
  },
  {
   "cell_type": "code",
   "execution_count": 116,
   "metadata": {},
   "outputs": [
    {
     "name": "stdout",
     "output_type": "stream",
     "text": [
      "x_train.shape=(400, 7)\n",
      "x_test.shape=(100, 7)\n",
      "y_train.shape=(400, 1)\n",
      "y_test.shape=(100, 1)\n"
     ]
    }
   ],
   "source": [
    "# 데이터셋 train data와 test data로 나누는 코드\n",
    "from sklearn.model_selection import train_test_split\n",
    "\n",
    "x_train, x_test, y_train, y_test = \\\n",
    "        train_test_split(input_data_frame, target_column, test_size=0.2, random_state=RANDOM_SEED)\n",
    "\n",
    "# 4개의 집합의 크기를 출력하는 코드\n",
    "print(f\"{x_train.shape=}\")\n",
    "print(f\"{x_test.shape=}\")\n",
    "print(f\"{y_train.shape=}\")\n",
    "print(f\"{y_test.shape=}\")"
   ]
  },
  {
   "cell_type": "markdown",
   "metadata": {},
   "source": [
    "<p>&rArr;500개의 데이터셋 중 400개를 train data로, 100개를 test data로 분할</p>\n",
    "<p>&rArr;전체 데이터셋의 크기가 500개로 작기 때문에 train data를 다시 나눠 Validation data를 지정하지 않음</p>\n",
    "<p>&rArr;대신 Cross Validation(교차 검증) 방식을 사용하여, 성능을 검증하기로 함</p>"
   ]
  },
  {
   "cell_type": "markdown",
   "metadata": {},
   "source": [
    "<h3>데이터셋 소개 및 전처리 과정 요약</h3>\n",
    "<br>\n",
    "<p>1. pandas로 CSV 데이터셋 파일을 불러옴</p>\n",
    "<p>2. 원본 데이터셋의 크기는 (500, 9) 즉, 특징이 9개고 전체 개수는 500개</p>\n",
    "<p>3. 학습에 사용하지 않을 특징 1개를 제거하여 특징 8개만 사용</p>\n",
    "<p>4. 원핫 인코딩이 필요한 범주형 변수가 있는지 보고 없음을 확인</p>\n",
    "<p>5. 각 열 별로 결측치가 존재하는지 확인하고 없음을 확인</p>\n",
    "<p>6. 오류 방지를 위해 각 열 이름의 공백 문자를 제거</p>\n",
    "<p>7. 학습에 사용할 입력 특징들과 target 특징을 분리하여, x, y데이터 생성</p>\n",
    "<p>8. 전처리가 끝난 데이터셋을 train data와 test data로 분리</p>\n",
    "<p>9. train data가 400개 밖에 되지 않음으로 validation data를 분리하지 않고 교차검증 방식을 사용하기로 결정</p>"
   ]
  },
  {
   "cell_type": "markdown",
   "metadata": {},
   "source": [
    "<h3>Cross Validation(교차검증)이 필요한 이유 설명</h3>\n",
    "<br>\n",
    "<p> Q: 모델 학습 시, train data(학습 데이터)에서 validation data를 나누어 accuracy와 loss를 계산하는 이유는 무엇인가?</p>\n",
    "<p> A: 학습에 사용하지 않은 validation data를 이용해, 모델의 일반화 성능을 평가하고 과적합 되기 전 학습을 중단하여(early stopping) 최적의 일반화 성능을 낼 수 있는 지점(epoch, boosting round)를 찾기 위해</p>"
   ]
  },
  {
   "cell_type": "markdown",
   "metadata": {},
   "source": [
    "<img src=\"https://raw.githubusercontent.com/kimstitute/University/main/early_stopping.png\" alt=\"early_stopping_graph\" width=\"500\">"
   ]
  },
  {
   "cell_type": "markdown",
   "metadata": {},
   "source": [
    "<p>&rArr;일반적으로 반복이 진행되며 train loss는 줄어드는데, validation loss가 증가하는 게 일정 횟수 이상 반복되면 학습 중단</p>\n",
    "<p>&rArr;모델이 train data에 과도하게 적응하여, 일반화 성능이 떨어지는 과적합 상태가 되었기 때문</p>\n",
    "<p>&rArr;여기서 반복은 딥러닝의 경우 epoch이고 XGBoost의 경우 boosting round</p>\n",
    "<br>\n",
    "<p>&nbsp;&nbsp;&nbsp;&nbsp;&nbsp;&nbsp;딥러닝에서 epoch: train data 전체를 한 번 모델에 입력하여 학습하는 주기</p>\n",
    "<p>&nbsp;&nbsp;&nbsp;&nbsp;&nbsp;&nbsp;XGBoost에서 boosting round: 모델에 하나의 decision tree를 추가하는 학습 주기</p>\n",
    "<br>"
   ]
  },
  {
   "cell_type": "markdown",
   "metadata": {},
   "source": [
    "<img src=\"https://raw.githubusercontent.com/kimstitute/University/main/validation_devide.png\" alt=\"validation_devide\" width=\"500\">"
   ]
  },
  {
   "cell_type": "markdown",
   "metadata": {},
   "source": [
    "<p>&rArr;validation data는 학습 도중 모델의 일반화 성능을 체크하기 위해 존재</p>\n",
    "<p>&rArr;validation data는 모델 학습에 이용할 수 없는 문제</p>\n",
    "<p>&rArr;400개 뿐인 작은 train data에서 또 100개를 제외한다면, train data가 너무 줄어드는 문제</p>\n",
    "<p>&rArr;100개 뿐인 validation data의 data 분포가 편향 없이 test data와 유사하다는 보증도 없음</p>\n",
    "<p>&rArr;validation data를 나누지 않고 train data 400개를 전부 학습 시킬 수 있는 교차검증을 사용하는 게 안전</p>"
   ]
  },
  {
   "cell_type": "markdown",
   "metadata": {},
   "source": [
    "<img src=\"https://raw.githubusercontent.com/kimstitute/University/main/k_fold.png\" alt=\"k_fold\" width=\"600\">"
   ]
  },
  {
   "cell_type": "markdown",
   "metadata": {},
   "source": [
    "<p>&rArr;Cross Validation 중 가장 흔히 쓰이는 K-fold 교차검증 사용</p>\n",
    "<p>&rArr;K-fold 교차검증으로 최선의 부스팅 라운드를 찾은 다음 전체 Training 데이터로 모델을 학습시킬 예정</p>\n",
    "<p>&rArr;Training Data 400개를 전부 사용하여 일반화 성능 올라갈 것 기대</p>\n",
    "<p>&rArr;모든 Data가 한 번씩, 검증에 사용되었음으로 Validation Data가 편향될 가능성 감소</p>\n",
    "<p>&rArr;Cross Validation 사용 시 연산량이 증가하지만, Dataset 크기가 작으므로 큰 단점이 아니라 판단</p>"
   ]
  },
  {
   "cell_type": "markdown",
   "metadata": {},
   "source": [
    "<h1>4. 모델 정의 및 학습</h1><br>\n",
    "<h2>4-1 모델 학습 중 Cross Validation으로 성능 평가</h2>"
   ]
  },
  {
   "cell_type": "code",
   "execution_count": 117,
   "metadata": {},
   "outputs": [],
   "source": [
    "# XGBoost 알고리즘 라이브러리를 불러온다\n",
    "import xgboost as xgb"
   ]
  },
  {
   "cell_type": "code",
   "execution_count": 118,
   "metadata": {
    "scrolled": true
   },
   "outputs": [
    {
     "name": "stdout",
     "output_type": "stream",
     "text": [
      "[0]\ttrain-rmse:0.13130+0.00192\ttest-rmse:0.13217+0.00827\n",
      "[1]\ttrain-rmse:0.12082+0.00186\ttest-rmse:0.12290+0.00824\n",
      "[2]\ttrain-rmse:0.11144+0.00182\ttest-rmse:0.11472+0.00846\n",
      "[3]\ttrain-rmse:0.10305+0.00181\ttest-rmse:0.10765+0.00830\n",
      "[4]\ttrain-rmse:0.09555+0.00177\ttest-rmse:0.10162+0.00862\n",
      "[5]\ttrain-rmse:0.08887+0.00175\ttest-rmse:0.09631+0.00846\n",
      "[6]\ttrain-rmse:0.08290+0.00176\ttest-rmse:0.09154+0.00855\n",
      "[7]\ttrain-rmse:0.07758+0.00174\ttest-rmse:0.08766+0.00855\n",
      "[8]\ttrain-rmse:0.07286+0.00180\ttest-rmse:0.08412+0.00868\n",
      "[9]\ttrain-rmse:0.06860+0.00181\ttest-rmse:0.08111+0.00876\n",
      "[10]\ttrain-rmse:0.06484+0.00186\ttest-rmse:0.07854+0.00894\n",
      "[11]\ttrain-rmse:0.06145+0.00183\ttest-rmse:0.07646+0.00892\n",
      "[12]\ttrain-rmse:0.05843+0.00196\ttest-rmse:0.07453+0.00890\n",
      "[13]\ttrain-rmse:0.05580+0.00202\ttest-rmse:0.07314+0.00881\n",
      "[14]\ttrain-rmse:0.05346+0.00204\ttest-rmse:0.07199+0.00870\n",
      "[15]\ttrain-rmse:0.05137+0.00207\ttest-rmse:0.07081+0.00887\n",
      "[16]\ttrain-rmse:0.04950+0.00221\ttest-rmse:0.07001+0.00887\n",
      "[17]\ttrain-rmse:0.04773+0.00218\ttest-rmse:0.06919+0.00890\n",
      "[18]\ttrain-rmse:0.04599+0.00216\ttest-rmse:0.06872+0.00894\n",
      "[19]\ttrain-rmse:0.04463+0.00229\ttest-rmse:0.06823+0.00895\n",
      "[20]\ttrain-rmse:0.04316+0.00231\ttest-rmse:0.06773+0.00895\n",
      "[21]\ttrain-rmse:0.04189+0.00224\ttest-rmse:0.06746+0.00895\n",
      "[22]\ttrain-rmse:0.04076+0.00210\ttest-rmse:0.06727+0.00889\n",
      "[23]\ttrain-rmse:0.03971+0.00201\ttest-rmse:0.06724+0.00885\n",
      "[24]\ttrain-rmse:0.03876+0.00190\ttest-rmse:0.06694+0.00882\n",
      "[25]\ttrain-rmse:0.03789+0.00190\ttest-rmse:0.06697+0.00878\n",
      "[26]\ttrain-rmse:0.03702+0.00198\ttest-rmse:0.06684+0.00888\n",
      "[27]\ttrain-rmse:0.03625+0.00195\ttest-rmse:0.06679+0.00876\n",
      "[28]\ttrain-rmse:0.03557+0.00207\ttest-rmse:0.06672+0.00880\n",
      "[29]\ttrain-rmse:0.03487+0.00219\ttest-rmse:0.06658+0.00872\n",
      "[30]\ttrain-rmse:0.03436+0.00216\ttest-rmse:0.06664+0.00880\n",
      "[31]\ttrain-rmse:0.03364+0.00205\ttest-rmse:0.06666+0.00871\n",
      "[32]\ttrain-rmse:0.03303+0.00211\ttest-rmse:0.06659+0.00863\n",
      "[33]\ttrain-rmse:0.03248+0.00205\ttest-rmse:0.06656+0.00862\n",
      "[34]\ttrain-rmse:0.03192+0.00202\ttest-rmse:0.06667+0.00853\n",
      "[35]\ttrain-rmse:0.03136+0.00202\ttest-rmse:0.06677+0.00841\n",
      "[36]\ttrain-rmse:0.03091+0.00198\ttest-rmse:0.06684+0.00834\n",
      "[37]\ttrain-rmse:0.03041+0.00206\ttest-rmse:0.06689+0.00835\n",
      "[38]\ttrain-rmse:0.02991+0.00202\ttest-rmse:0.06707+0.00829\n",
      "[39]\ttrain-rmse:0.02951+0.00202\ttest-rmse:0.06709+0.00821\n",
      "[40]\ttrain-rmse:0.02924+0.00204\ttest-rmse:0.06715+0.00823\n",
      "[41]\ttrain-rmse:0.02887+0.00204\ttest-rmse:0.06720+0.00822\n",
      "[42]\ttrain-rmse:0.02843+0.00204\ttest-rmse:0.06734+0.00819\n",
      "[43]\ttrain-rmse:0.02792+0.00197\ttest-rmse:0.06734+0.00825\n",
      "최고의 RMSE: 0.0666\n",
      "최선의 라운드: 33\n"
     ]
    }
   ],
   "source": [
    "# DMatrix로 데이터를 변환(XGBoost 라이브러리에서 사용하는 데이터 타입)\n",
    "dtrain = xgb.DMatrix(x_train, label=y_train)\n",
    "\n",
    "# 파라미터 설정\n",
    "params = {\n",
    "    'objective': 'reg:squarederror',  # 회귀 목적 함수\n",
    "    'learning_rate': 0.1,            # 학습률\n",
    "    'max_depth': 5,                  # 트리 최대 깊이\n",
    "    'random_state': RANDOM_SEED,     # 랜덤 시드\n",
    "    'verbosity': 1                   # 로그 출력 수준\n",
    "}\n",
    "\n",
    "# 교차검증 수행\n",
    "cv_results = xgb.cv(\n",
    "    params=params,                  # XGBoost 파라미터\n",
    "    dtrain=dtrain,                  # 학습 데이터\n",
    "    num_boost_round=100,            # 부스팅 라운드 수\n",
    "    nfold=5,                        # 5-Fold 교차검증\n",
    "    metrics='rmse',                 # 평가 지표 (Root Mean Squared Error)\n",
    "    early_stopping_rounds=10,       # 성능 개선 없을 시 10번 후 조기 종료\n",
    "    verbose_eval=True               # 학습 로그 출력\n",
    ")\n",
    "\n",
    "# 최적 부스팅 라운드와 최적 성능 출력\n",
    "print(f\"최고의 RMSE: {cv_results['test-rmse-mean'].min():.4f}\")\n",
    "print(f\"최선의 라운드: {cv_results['test-rmse-mean'].idxmin()}\")"
   ]
  },
  {
   "cell_type": "markdown",
   "metadata": {},
   "source": [
    "<p>&rArr;XGBoost 사용 위해 라이브러리 불러오고 XGBoost 라이브러리에서 사용하는 DMatrix 형식으로 x, y 데이터를 변환</p>\n",
    "<p>&rArr;K-fold 교차검증 사용 위한 파라미터 지정, 회귀 문제, K=5, 평가지표=RMSE, 최대 부스팅 라운드 수 100, 10 부스팅 라운드 동안 성능 개선 없으면 학습 중지</p>\n",
    "<p>&rArr;xgb.cv함수로 데이터를 학습하고 K-fold 교차검증 수행</p>\n",
    "<p>&rArr;train-rmse-mean: 각 Fold에서 학습 데이터의 RMSE 평균</p>\n",
    "<p>&rArr;test-rmse-mean: 각 Fold에서 검증 데이터의 RMSE 평균</p>\n",
    "<p>&rArr;test-rmse-mean가 가장 낮을 때의 부스팅 라운드가 33임을 확인</p>"
   ]
  },
  {
   "cell_type": "code",
   "execution_count": 119,
   "metadata": {},
   "outputs": [
    {
     "name": "stdout",
     "output_type": "stream",
     "text": [
      "mse=0.00399\n"
     ]
    }
   ],
   "source": [
    "# 최적 부스팅 라운드 수\n",
    "best_boost_rounds = cv_results['test-rmse-mean'].idxmin()\n",
    "\n",
    "# 최적 부스팅 라운드로 모델 학습\n",
    "model = xgb.XGBRegressor(\n",
    "    n_estimators=best_boost_rounds,\n",
    "    learning_rate=0.1,\n",
    "    max_depth=5,\n",
    "    objective='reg:squarederror',\n",
    "    random_state=RANDOM_SEED,\n",
    "    verbosity=2\n",
    ")\n",
    "\n",
    "# 모델 학습\n",
    "model.fit(x_train, y_train)\n",
    "\n",
    "# 테스트 데이터 예측 및 평가\n",
    "from sklearn.metrics import mean_squared_error\n",
    "\n",
    "y_prediction = model.predict(x_test)\n",
    "mse = mean_squared_error(y_test, y_prediction)\n",
    "print(f\"{mse=:.5f}\")"
   ]
  },
  {
   "cell_type": "markdown",
   "metadata": {},
   "source": [
    "<p>&rArr;xgb.cv()는 교차검증 수행 후 모델이 아니라 부스팅라운드 별, 성능이 담긴 DataFrame을 반환</p>\n",
    "<p>&rArr;따라서 전체 Training Data를 사용해 다시 XGBoost 회귀 모델을 학습시키고 Test Data로 예측 성능을 평가</p>\n",
    "<p>&rArr;이때, 부스팅라운드 수는 교차검증으로 찾은 최적의 부스팅라운드(33)로 설정</p>\n",
    "<p>&rArr;MSE를 성능지표로 Training Data 400개로 33 부스팅라운드까지 학습시킨 모델의 성능 평가</p>"
   ]
  },
  {
   "cell_type": "markdown",
   "metadata": {},
   "source": [
    "<h2>4-2 모델 학습 중. 미리 분리해 둔 Validation Data로 성능 평가</h2>"
   ]
  },
  {
   "cell_type": "code",
   "execution_count": 120,
   "metadata": {},
   "outputs": [
    {
     "name": "stdout",
     "output_type": "stream",
     "text": [
      "x_train2.shape=(300, 7)\n",
      "x_val.shape=(100, 7)\n",
      "x_test2.shape=(100, 7)\n",
      "y_train2.shape=(300, 1)\n",
      "y_val.shape=(100, 1)\n",
      "y_test2.shape=(100, 1)\n"
     ]
    }
   ],
   "source": [
    "# 데이터셋 train data와 test data로 나누는 코드\n",
    "x_train2, x_test2, y_train2, y_test2 = \\\n",
    "    train_test_split(input_data_frame, target_column, test_size=0.2, random_state=RANDOM_SEED)\n",
    "\n",
    "# Train 데이터를 다시 Train과 Validation으로 나눔\n",
    "# 0.25 x 0.8 = 0.2 (Validation은 전체의 20%))\n",
    "x_train2, x_val, y_train2, y_val = \\\n",
    "    train_test_split(x_train2, y_train2, test_size=0.25, random_state=RANDOM_SEED)\n",
    "\n",
    "# 각 데이터 크기 출력\n",
    "print(f\"{x_train2.shape=}\")\n",
    "print(f\"{x_val.shape=}\")\n",
    "print(f\"{x_test2.shape=}\")\n",
    "print(f\"{y_train2.shape=}\")\n",
    "print(f\"{y_val.shape=}\")\n",
    "print(f\"{y_test2.shape=}\")"
   ]
  },
  {
   "cell_type": "markdown",
   "metadata": {},
   "source": [
    "<p>&rArr;교차검증 사용 시와 성능 비교 위해 Validation Data를 미리 나눈 비교군 준비</p>\n",
    "<p>&rArr;400개의 Data 중 100개를 Validation Data로 300개를 Training Data로 사용</p>"
   ]
  },
  {
   "cell_type": "code",
   "execution_count": 121,
   "metadata": {
    "scrolled": true
   },
   "outputs": [],
   "source": [
    "# XGBoost 알고리즘을 사용하는 회귀 모델2을 정의하는 코드\n",
    "\n",
    "model2 = xgb.XGBRegressor(\n",
    "    n_estimators=100, # 부스팅 라운드 수\n",
    "    learning_rate=0.1, # 학습률\n",
    "    max_depth=5, # 트리의 최대 깊이\n",
    "    objective='reg:squarederror',  # 회귀 문제의 목적 함수\n",
    "    random_state = RANDOM_SEED, # 랜덤 시드 지정\n",
    "    verbosity=2, # 학습 과정에서 로그 출력 정도 지정\n",
    "    eval_metric='rmse',  # 평가 지표 설정\n",
    "    early_stopping_rounds=10,  # 10회 동안 성능 개선이 없으면 학습 종료\n",
    ")\n",
    "\n",
    "# xgboost 모델 정보 출력하는 코드\n",
    "#model2.get_params()"
   ]
  },
  {
   "cell_type": "markdown",
   "metadata": {},
   "source": [
    "<p>&rArr;공정한 비교 위해 교차검증을 사용한다는 것 이외의 모든 조건 동일하게 설정</p>"
   ]
  },
  {
   "cell_type": "code",
   "execution_count": 122,
   "metadata": {
    "scrolled": true
   },
   "outputs": [
    {
     "name": "stdout",
     "output_type": "stream",
     "text": [
      "[0]\tvalidation_0-rmse:0.13167\n",
      "[1]\tvalidation_0-rmse:0.12330\n",
      "[2]\tvalidation_0-rmse:0.11626\n",
      "[3]\tvalidation_0-rmse:0.11010\n",
      "[4]\tvalidation_0-rmse:0.10483\n",
      "[5]\tvalidation_0-rmse:0.10019\n",
      "[6]\tvalidation_0-rmse:0.09646\n",
      "[7]\tvalidation_0-rmse:0.09316\n",
      "[8]\tvalidation_0-rmse:0.09024\n",
      "[9]\tvalidation_0-rmse:0.08797\n",
      "[10]\tvalidation_0-rmse:0.08571\n",
      "[11]\tvalidation_0-rmse:0.08402\n",
      "[12]\tvalidation_0-rmse:0.08242\n",
      "[13]\tvalidation_0-rmse:0.08136\n",
      "[14]\tvalidation_0-rmse:0.08031\n",
      "[15]\tvalidation_0-rmse:0.07959\n",
      "[16]\tvalidation_0-rmse:0.07877\n",
      "[17]\tvalidation_0-rmse:0.07840\n",
      "[18]\tvalidation_0-rmse:0.07774\n",
      "[19]\tvalidation_0-rmse:0.07724\n",
      "[20]\tvalidation_0-rmse:0.07712\n",
      "[21]\tvalidation_0-rmse:0.07680\n",
      "[22]\tvalidation_0-rmse:0.07658\n",
      "[23]\tvalidation_0-rmse:0.07609\n",
      "[24]\tvalidation_0-rmse:0.07600\n",
      "[25]\tvalidation_0-rmse:0.07570\n",
      "[26]\tvalidation_0-rmse:0.07536\n",
      "[27]\tvalidation_0-rmse:0.07523\n",
      "[28]\tvalidation_0-rmse:0.07519\n",
      "[29]\tvalidation_0-rmse:0.07512\n",
      "[30]\tvalidation_0-rmse:0.07513\n",
      "[31]\tvalidation_0-rmse:0.07514\n",
      "[32]\tvalidation_0-rmse:0.07522\n",
      "[33]\tvalidation_0-rmse:0.07521\n",
      "[34]\tvalidation_0-rmse:0.07504\n",
      "[35]\tvalidation_0-rmse:0.07500\n",
      "[36]\tvalidation_0-rmse:0.07501\n",
      "[37]\tvalidation_0-rmse:0.07504\n",
      "[38]\tvalidation_0-rmse:0.07514\n",
      "[39]\tvalidation_0-rmse:0.07515\n",
      "[40]\tvalidation_0-rmse:0.07516\n",
      "[41]\tvalidation_0-rmse:0.07508\n",
      "[42]\tvalidation_0-rmse:0.07511\n",
      "[43]\tvalidation_0-rmse:0.07514\n",
      "[44]\tvalidation_0-rmse:0.07515\n",
      "model2.best_iteration=35\n"
     ]
    }
   ],
   "source": [
    "# 모델2 학습시키는 코드 (Validation 데이터 포함)\n",
    "model2.fit(\n",
    "    x_train2, y_train2,\n",
    "    eval_set=[(x_val, y_val)],  # 검증 데이터 추가\n",
    "    verbose=True               # 학습 로그 출력\n",
    ")\n",
    "\n",
    "# 최적 라운드 확인 (model2)\n",
    "print(f\"{model2.best_iteration=}\")"
   ]
  },
  {
   "cell_type": "markdown",
   "metadata": {},
   "source": [
    "<p>&rArr;300개의 Training Data로 학습하는 동안 100개의 Validation Data로 일반화 성능 평가</p>\n",
    "<p>&rArr;최적의 부스팅 라운드는 35로 측정</p>"
   ]
  },
  {
   "cell_type": "code",
   "execution_count": 123,
   "metadata": {},
   "outputs": [
    {
     "name": "stdout",
     "output_type": "stream",
     "text": [
      "mse2=0.00407\n"
     ]
    }
   ],
   "source": [
    "# 최적 라운드로 테스트 데이터 평가\n",
    "y_prediction2 = model2.predict(x_test2)\n",
    "mse2 = mean_squared_error(y_test2, y_prediction2)\n",
    "print(f\"{mse2=:.5f}\")"
   ]
  },
  {
   "cell_type": "markdown",
   "metadata": {},
   "source": [
    "<p>&rArr;Early Stopping사용하여 최적의 부스닝 라운드 35에서 모델 학습이 멈춘 상태</p>\n",
    "<p>&rArr;Test Data 사용하여 35 부스팅 라운드에서 MSE 성능 측정</p>"
   ]
  },
  {
   "cell_type": "markdown",
   "metadata": {},
   "source": [
    "<h1>5. 성능 비교</h1><br>"
   ]
  },
  {
   "cell_type": "code",
   "execution_count": 124,
   "metadata": {},
   "outputs": [
    {
     "name": "stdout",
     "output_type": "stream",
     "text": [
      "Using Cross Validation mse=0.00399\n",
      "Using Validation Data mse2=0.00407\n"
     ]
    }
   ],
   "source": [
    "# MSE 수치 비교\n",
    "print(f\"Using Cross Validation {mse=:.5f}\")\n",
    "print(f\"Using Validation Data {mse2=:.5f}\")"
   ]
  },
  {
   "cell_type": "markdown",
   "metadata": {},
   "source": [
    "<p>&rArr;Cross Validation을 사용한 XGBoost 모델의 성능이 더 뛰어남을 확인</p>"
   ]
  },
  {
   "cell_type": "markdown",
   "metadata": {},
   "source": [
    "# 감사합니다\n",
    "<br><br><br><br><br><br><br><br><br><br><br><br><br><br><br><br><br><br><br><br><br><br><br><br><br><br><br><br>"
   ]
  },
  {
   "cell_type": "code",
   "execution_count": null,
   "metadata": {},
   "outputs": [],
   "source": []
  },
  {
   "cell_type": "code",
   "execution_count": null,
   "metadata": {},
   "outputs": [],
   "source": []
  },
  {
   "cell_type": "code",
   "execution_count": null,
   "metadata": {},
   "outputs": [],
   "source": []
  },
  {
   "cell_type": "code",
   "execution_count": null,
   "metadata": {},
   "outputs": [],
   "source": []
  }
 ],
 "metadata": {
  "colab": {
   "provenance": []
  },
  "kernelspec": {
   "display_name": "Python 3 (ipykernel)",
   "language": "python",
   "name": "python3"
  },
  "language_info": {
   "codemirror_mode": {
    "name": "ipython",
    "version": 3
   },
   "file_extension": ".py",
   "mimetype": "text/x-python",
   "name": "python",
   "nbconvert_exporter": "python",
   "pygments_lexer": "ipython3",
   "version": "3.10.9"
  }
 },
 "nbformat": 4,
 "nbformat_minor": 1
}
